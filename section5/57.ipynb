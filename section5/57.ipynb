{
 "metadata": {
  "language_info": {
   "codemirror_mode": {
    "name": "ipython",
    "version": 3
   },
   "file_extension": ".py",
   "mimetype": "text/x-python",
   "name": "python",
   "nbconvert_exporter": "python",
   "pygments_lexer": "ipython3",
   "version": "3.8.5-final"
  },
  "orig_nbformat": 2,
  "kernelspec": {
   "name": "python3",
   "display_name": "Python 3"
  }
 },
 "nbformat": 4,
 "nbformat_minor": 2,
 "cells": [
  {
   "cell_type": "code",
   "execution_count": 1,
   "metadata": {},
   "outputs": [
    {
     "output_type": "stream",
     "name": "stdout",
     "text": [
      "30\n"
     ]
    }
   ],
   "source": [
    "#デコレータについて\n",
    "def add_num(a,b):\n",
    "    return a+ b \n",
    "\n",
    "print(\"start\")\n",
    "r = add_num(10,20)\n",
    "print(\"end\")\n",
    "\n",
    "print(r)"
   ]
  },
  {
   "cell_type": "code",
   "execution_count": 5,
   "metadata": {},
   "outputs": [
    {
     "output_type": "stream",
     "name": "stdout",
     "text": [
      "start\nfunc: add_num\nargs: (10, 20)\nkwargs: {}\nresult: 30\nend\n30\n"
     ]
    }
   ],
   "source": [
    "#デコレーターはなにかを包み込んでいく\n",
    "def print_more(func):\n",
    "    def wrapper(*args,**kwargs):\n",
    "        print(\"func:\",func.__name__ )\n",
    "        print(\"args:\",args)\n",
    "        print(\"kwargs:\",kwargs )\n",
    "        result = func(*args, **kwargs)\n",
    "        print(\"result:\",result )\n",
    "        return result \n",
    "    return wrapper\n",
    "\n",
    "def print_info(func):\n",
    "    def wrapper(*args,**kwargs):\n",
    "        print(\"start\")\n",
    "        result = func(*args, **kwargs)\n",
    "        print(\"end\")\n",
    "        return result \n",
    "    return wrapper\n",
    "\n",
    "@print_info\n",
    "@print_more\n",
    "def  add_num(a,b):\n",
    "    return a + b\n",
    "\n",
    "r = add_num(10,20)\n",
    "print(r)\n",
    "\n",
    "@print_info\n",
    "def sub_num(a,b):\n",
    "    return a - b"
   ]
  },
  {
   "cell_type": "code",
   "execution_count": null,
   "metadata": {},
   "outputs": [],
   "source": []
  }
 ]
}