{
 "metadata": {
  "language_info": {
   "codemirror_mode": {
    "name": "ipython",
    "version": 3
   },
   "file_extension": ".py",
   "mimetype": "text/x-python",
   "name": "python",
   "nbconvert_exporter": "python",
   "pygments_lexer": "ipython3",
   "version": "3.8.5-final"
  },
  "orig_nbformat": 2,
  "kernelspec": {
   "name": "python3",
   "display_name": "Python 3"
  }
 },
 "nbformat": 4,
 "nbformat_minor": 2,
 "cells": [
  {
   "cell_type": "code",
   "execution_count": 3,
   "metadata": {},
   "outputs": [
    {
     "output_type": "stream",
     "name": "stdout",
     "text": [
      "Example function with types documented in the docstring.\n    Args:\n        param1(int):the forist parameter.\n        param2(str2):the second parameter.\n\n    Returns:\n        bool:the return value.true for success,false otherwise\n    \n"
     ]
    }
   ],
   "source": [
    "#docstringsとは\n",
    "#関数の中に説明を入れる\n",
    "def example_func(param1,param2):\n",
    "    \"\"\"Example function with types documented in the docstring.\n",
    "    Args:\n",
    "        param1(int):the forist parameter.\n",
    "        param2(str2):the second parameter.\n",
    "\n",
    "    Returns:\n",
    "        bool:the return value.true for success,false otherwise\n",
    "    \"\"\"\n",
    "\n",
    "    print(param1)\n",
    "    print(param2)\n",
    "    return True\n",
    "\n",
    "#__doc__で関数のなかのやつをみることが可能\n",
    "print(example_func.__doc__)"
   ]
  },
  {
   "cell_type": "code",
   "execution_count": null,
   "metadata": {},
   "outputs": [],
   "source": []
  }
 ]
}