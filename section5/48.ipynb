{
 "metadata": {
  "language_info": {
   "codemirror_mode": {
    "name": "ipython",
    "version": 3
   },
   "file_extension": ".py",
   "mimetype": "text/x-python",
   "name": "python",
   "nbconvert_exporter": "python",
   "pygments_lexer": "ipython3",
   "version": "3.8.5-final"
  },
  "orig_nbformat": 2,
  "kernelspec": {
   "name": "python3",
   "display_name": "Python 3"
  }
 },
 "nbformat": 4,
 "nbformat_minor": 2,
 "cells": [
  {
   "cell_type": "code",
   "execution_count": 6,
   "metadata": {},
   "outputs": [
    {
     "output_type": "stream",
     "name": "stdout",
     "text": [
      "<class 'function'>\nhi\n"
     ]
    }
   ],
   "source": [
    "#関数定義\n",
    "#関数はdef\n",
    "def say_something():\n",
    "    print(\"hi\")\n",
    "\n",
    "#functionという型\n",
    "print(type(say_something))\n",
    "\n",
    "f = say_something\n",
    "f()"
   ]
  },
  {
   "cell_type": "code",
   "execution_count": 7,
   "metadata": {},
   "outputs": [
    {
     "output_type": "stream",
     "name": "stdout",
     "text": [
      "hi\n"
     ]
    }
   ],
   "source": [
    "def say_something():\n",
    "    s = \"hi\"\n",
    "    return s\n",
    "\n",
    "result = say_something()\n",
    "print(result) \n",
    "\n"
   ]
  },
  {
   "cell_type": "code",
   "execution_count": 12,
   "metadata": {},
   "outputs": [
    {
     "output_type": "execute_result",
     "data": {
      "text/plain": [
       "'ijono;jn'"
      ]
     },
     "metadata": {},
     "execution_count": 12
    }
   ],
   "source": [
    "def what_is_this(color):\n",
    "    if color == \"red\":\n",
    "        return \"tomato\"\n",
    "    elif color == \"green\":\n",
    "        return \"uihohj\"\n",
    "    else:\n",
    "        return \"ijono;jn\"\n",
    "\n",
    "what_is_this(\"gre\")"
   ]
  },
  {
   "cell_type": "code",
   "execution_count": null,
   "metadata": {},
   "outputs": [],
   "source": []
  }
 ]
}