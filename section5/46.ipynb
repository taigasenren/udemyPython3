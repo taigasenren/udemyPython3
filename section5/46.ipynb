{
 "metadata": {
  "language_info": {
   "codemirror_mode": {
    "name": "ipython",
    "version": 3
   },
   "file_extension": ".py",
   "mimetype": "text/x-python",
   "name": "python",
   "nbconvert_exporter": "python",
   "pygments_lexer": "ipython3",
   "version": "3.8.5-final"
  },
  "orig_nbformat": 2,
  "kernelspec": {
   "name": "python3",
   "display_name": "Python 3"
  }
 },
 "nbformat": 4,
 "nbformat_minor": 2,
 "cells": [
  {
   "cell_type": "code",
   "execution_count": 2,
   "metadata": {},
   "outputs": [
    {
     "output_type": "stream",
     "name": "stdout",
     "text": [
      "mon apple coffee\ntue banana tes\nwed orange beer\n"
     ]
    }
   ],
   "source": [
    "#zip関数について\n",
    "days = [\"mon\" , \"tue\" , \"wed\"]\n",
    "fruits = [\"apple\" , \"banana\" ,\"orange\"]\n",
    "drinks = [\"coffee\",\"tes\",\"beer\"]\n",
    "\n",
    "\"\"\"\n",
    "for i in range(len(days)):\n",
    "    print(days[i],fruits[i],drinks[i])\n",
    "\"\"\"\n",
    "\n",
    "#zipでforを便利にできる\n",
    "for day, fruit, drink in zip(days,fruits,drinks):\n",
    "    print(day,fruit,drink)"
   ]
  },
  {
   "cell_type": "code",
   "execution_count": null,
   "metadata": {},
   "outputs": [],
   "source": []
  }
 ]
}