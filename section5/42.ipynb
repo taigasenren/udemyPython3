{
 "metadata": {
  "language_info": {
   "codemirror_mode": {
    "name": "ipython",
    "version": 3
   },
   "file_extension": ".py",
   "mimetype": "text/x-python",
   "name": "python",
   "nbconvert_exporter": "python",
   "pygments_lexer": "ipython3",
   "version": "3.8.5-final"
  },
  "orig_nbformat": 2,
  "kernelspec": {
   "name": "python3",
   "display_name": "Python 3"
  }
 },
 "nbformat": 4,
 "nbformat_minor": 2,
 "cells": [
  {
   "cell_type": "code",
   "execution_count": 3,
   "metadata": {},
   "outputs": [
    {
     "output_type": "stream",
     "name": "stdout",
     "text": [
      "a\nb\nc\nd\ne\n"
     ]
    }
   ],
   "source": [
    "#for文とbreak文とcontinue文\n",
    "some_list = [1,2,3,4,5]\n",
    "\n",
    "\"\"\"\n",
    "i = 0\n",
    "while i < len(some_list):\n",
    "    print(some_list[i])\n",
    "    i += 1\n",
    "\n",
    "\n",
    "#forでiに最初のから順に入れていくで、終わったら終了\n",
    "#反覆処理はイテレーター(i)\n",
    "for i in some_list:\n",
    "    print(i)\n",
    "\"\"\"\n",
    "\n",
    "#文字列も同様にやってくれる\n",
    "for s in \"abcde\":\n",
    "    print(s)"
   ]
  },
  {
   "cell_type": "code",
   "execution_count": 4,
   "metadata": {},
   "outputs": [
    {
     "output_type": "stream",
     "name": "stdout",
     "text": [
      "my\n"
     ]
    }
   ],
   "source": [
    "for word in [\"my\",\"name\",\"is\",\"mike\"]:\n",
    "    #while文とかとほぼ同じ\n",
    "    if word == \"name\":\n",
    "        break\n",
    "    print(word)"
   ]
  },
  {
   "cell_type": "code",
   "execution_count": 5,
   "metadata": {},
   "outputs": [
    {
     "output_type": "stream",
     "name": "stdout",
     "text": [
      "my\nis\nmike\n"
     ]
    }
   ],
   "source": [
    "for word in [\"my\",\"name\",\"is\",\"mike\"]:\n",
    "    #while文とかとほぼ同じ\n",
    "    if word == \"name\":\n",
    "        continue\n",
    "    print(word)"
   ]
  },
  {
   "cell_type": "code",
   "execution_count": null,
   "metadata": {},
   "outputs": [],
   "source": []
  }
 ]
}