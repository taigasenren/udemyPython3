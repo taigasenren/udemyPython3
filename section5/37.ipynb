{
 "metadata": {
  "language_info": {
   "codemirror_mode": {
    "name": "ipython",
    "version": 3
   },
   "file_extension": ".py",
   "mimetype": "text/x-python",
   "name": "python",
   "nbconvert_exporter": "python",
   "pygments_lexer": "ipython3",
   "version": "3.8.5-final"
  },
  "orig_nbformat": 2,
  "kernelspec": {
   "name": "python3",
   "display_name": "Python 3"
  }
 },
 "nbformat": 4,
 "nbformat_minor": 2,
 "cells": [
  {
   "cell_type": "code",
   "execution_count": 5,
   "metadata": {},
   "outputs": [
    {
     "output_type": "stream",
     "name": "stdout",
     "text": [
      "no\n"
     ]
    }
   ],
   "source": [
    "#値が入っていない判定をするテクニック\n",
    "#is_ok = True\n",
    "#0もfalseになる、1はtrue、自然数はtrue false,0,0.0,[],{},set()\n",
    "#is_ok = 0\n",
    "#\"\"は空白なのでno\n",
    "#is_ok = \"\" \n",
    "is_ok = []\n",
    "\n",
    "if is_ok:\n",
    "    print(\"ok\")\n",
    "else:\n",
    "    print(\"no\")"
   ]
  },
  {
   "cell_type": "code",
   "execution_count": null,
   "metadata": {},
   "outputs": [],
   "source": []
  }
 ]
}