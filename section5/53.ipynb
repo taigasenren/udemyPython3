{
 "metadata": {
  "language_info": {
   "codemirror_mode": {
    "name": "ipython",
    "version": 3
   },
   "file_extension": ".py",
   "mimetype": "text/x-python",
   "name": "python",
   "nbconvert_exporter": "python",
   "pygments_lexer": "ipython3",
   "version": "3.8.5-final"
  },
  "orig_nbformat": 2,
  "kernelspec": {
   "name": "python3",
   "display_name": "Python 3"
  }
 },
 "nbformat": 4,
 "nbformat_minor": 2,
 "cells": [
  {
   "cell_type": "code",
   "execution_count": 2,
   "metadata": {},
   "outputs": [
    {
     "output_type": "stream",
     "name": "stdout",
     "text": [
      "beef coffee\n"
     ]
    }
   ],
   "source": [
    "def menu(entree = \"beef\",drink = \"rine\"):\n",
    "    print(entree,drink)\n",
    "\n",
    "menu(entree = \"beef\",drink = \"coffee\")"
   ]
  },
  {
   "cell_type": "code",
   "execution_count": 4,
   "metadata": {},
   "outputs": [
    {
     "output_type": "stream",
     "name": "stdout",
     "text": [
      "entree beef\ndrink coffee\n"
     ]
    }
   ],
   "source": [
    "#**kwargsで辞書化できる\n",
    "def menu(**kwargs):\n",
    "    for k, v in kwargs.items():\n",
    "        print(k,v)\n",
    "\n",
    "menu(entree = \"beef\",drink = \"coffee\")"
   ]
  },
  {
   "cell_type": "code",
   "execution_count": 5,
   "metadata": {},
   "outputs": [
    {
     "output_type": "stream",
     "name": "stdout",
     "text": [
      "entree beef\ndrink ice cofee\ndessert ice\n"
     ]
    }
   ],
   "source": [
    "#**kwargsで辞書化できる\n",
    "def menu(**kwargs):\n",
    "    for k, v in kwargs.items():\n",
    "        print(k,v)\n",
    "\n",
    "#dictionaryを宣言\n",
    "d = {\n",
    "    \"entree\" : \"beef\",\n",
    "    \"drink\" : \"ice cofee\",\n",
    "    \"dessert\" : \"ice\"\n",
    "}\n",
    "\n",
    "#**を２つつけたらdが展開されて渡されるから辞書として扱える\n",
    "menu(**d)"
   ]
  },
  {
   "cell_type": "code",
   "execution_count": 6,
   "metadata": {},
   "outputs": [
    {
     "output_type": "stream",
     "name": "stdout",
     "text": [
      "banana\n('apple', 'orange')\n{'entree': 'beef', 'drink': 'coffee'}\n"
     ]
    }
   ],
   "source": [
    "#**kwargsで辞書化できる\n",
    "def menu(food,*args,**kwargs):\n",
    "#下のはは順番だめ\n",
    "#def menu(food,**kwargs,*args):\n",
    "    #bananaがfoodeはいってる\n",
    "    print(food)\n",
    "    #引数としていれたのがargsに入る\n",
    "    print(args)\n",
    "    #キーワード引数として渡したものは**kwargsに入る\n",
    "    print(kwargs)\n",
    "\n",
    "\n",
    "#**を２つつけたらdが展開されて渡されるから辞書として扱える\n",
    "menu(\"banana\",\"apple\",\"orange\",entree = \"beef\",drink = \"coffee\")"
   ]
  },
  {
   "cell_type": "code",
   "execution_count": null,
   "metadata": {},
   "outputs": [],
   "source": []
  }
 ]
}