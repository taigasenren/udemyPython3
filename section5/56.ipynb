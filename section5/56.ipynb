{
 "metadata": {
  "language_info": {
   "codemirror_mode": {
    "name": "ipython",
    "version": 3
   },
   "file_extension": ".py",
   "mimetype": "text/x-python",
   "name": "python",
   "nbconvert_exporter": "python",
   "pygments_lexer": "ipython3",
   "version": "3.8.5-final"
  },
  "orig_nbformat": 2,
  "kernelspec": {
   "name": "python3",
   "display_name": "Python 3"
  }
 },
 "nbformat": 4,
 "nbformat_minor": 2,
 "cells": [
  {
   "cell_type": "code",
   "execution_count": 3,
   "metadata": {},
   "outputs": [
    {
     "output_type": "stream",
     "name": "stdout",
     "text": [
      "####\n3\n"
     ]
    }
   ],
   "source": [
    "#クロージャーについて\n",
    "def outer(a,b):\n",
    "    def inner():\n",
    "        return a + b\n",
    "\n",
    "    #innerの関数を返している\n",
    "    return inner\n",
    "\n",
    "#a +bまだ実行されていない\n",
    "#print(outer(1,2))\n",
    "\n",
    "f = outer(1,2)\n",
    "\n",
    "print(\"####\")\n",
    "\n",
    "#ここで関数をたてることでreturn a + bが実行される\n",
    "r = f()\n",
    "print(r)"
   ]
  },
  {
   "cell_type": "code",
   "execution_count": 6,
   "metadata": {},
   "outputs": [
    {
     "output_type": "stream",
     "name": "stdout",
     "text": [
      "314.0\n314.1592\n"
     ]
    }
   ],
   "source": [
    "#最初に設定したひきすうをもとに使い分けたいときにクロージャーをつかう\n",
    "def circle_area_func(pi):\n",
    "    def circle_area(radius):\n",
    "        return pi * radius * radius\n",
    "    \n",
    "    return circle_area\n",
    "\n",
    "cal1 = circle_area_func(3.14)\n",
    "cal2 = circle_area_func(3.141592)\n",
    "\n",
    "print(cal1(10))\n",
    "print(cal2(10))"
   ]
  },
  {
   "cell_type": "code",
   "execution_count": null,
   "metadata": {},
   "outputs": [],
   "source": []
  }
 ]
}