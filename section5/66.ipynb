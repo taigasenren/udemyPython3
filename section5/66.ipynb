{
 "metadata": {
  "language_info": {
   "codemirror_mode": {
    "name": "ipython",
    "version": 3
   },
   "file_extension": ".py",
   "mimetype": "text/x-python",
   "name": "python",
   "nbconvert_exporter": "python",
   "pygments_lexer": "ipython3",
   "version": "3.8.5-final"
  },
  "orig_nbformat": 2,
  "kernelspec": {
   "name": "python3",
   "display_name": "Python 3"
  }
 },
 "nbformat": 4,
 "nbformat_minor": 2,
 "cells": [
  {
   "cell_type": "code",
   "execution_count": 1,
   "metadata": {},
   "outputs": [],
   "source": [
    "#独自例外の作成\n",
    "#独自エラーを作って処理するのがいい\n",
    "class UpperCaseError(Exception):\n",
    "    pass\n",
    "\n",
    "def check():\n",
    "    words = [\"apple\",\"orange\",\"banana\"]\n",
    "    for word in words:\n",
    "        if word.isupper():\n",
    "            raise UpperCaseError(word)\n",
    "            #raise ValueError(word)\n",
    "try:\n",
    "    check()\n",
    "except UpperCaseError as exc:\n",
    "    print(\"falt\")"
   ]
  },
  {
   "cell_type": "code",
   "execution_count": null,
   "metadata": {},
   "outputs": [],
   "source": []
  }
 ]
}