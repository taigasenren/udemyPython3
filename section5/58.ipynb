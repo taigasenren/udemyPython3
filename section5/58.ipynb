{
 "metadata": {
  "language_info": {
   "codemirror_mode": {
    "name": "ipython",
    "version": 3
   },
   "file_extension": ".py",
   "mimetype": "text/x-python",
   "name": "python",
   "nbconvert_exporter": "python",
   "pygments_lexer": "ipython3",
   "version": "3.8.5-final"
  },
  "orig_nbformat": 2,
  "kernelspec": {
   "name": "python3",
   "display_name": "Python 3"
  }
 },
 "nbformat": 4,
 "nbformat_minor": 2,
 "cells": [
  {
   "cell_type": "code",
   "execution_count": 1,
   "metadata": {},
   "outputs": [
    {
     "output_type": "stream",
     "name": "stdout",
     "text": [
      "Mon\nTue\nWed\nThu\nFri\nSat\nSun\n"
     ]
    }
   ],
   "source": [
    "l = [\"mon\",\"tue\",\"wed\",\"thu\",\"fri\",\"sat\",\"sun\"]\n",
    "\n",
    "def change_words(words,func):\n",
    "    for word in words:\n",
    "        print(func(word))\n",
    "\n",
    "#def sample_func(word):\n",
    "#   return word.capitalize()\n",
    "\n",
    "#ラムダを使うことでもっと簡単にかける\n",
    "#functionを引数とするものはラムダを使って定義する\n",
    "sample_func = lamda word: word.capitalize()\n",
    "\n",
    "change_words(l,sample_func)\n",
    "#一行で書くことも可能\n",
    "#change_words(l,lamda word: word.capitalize())\n",
    "#ラムダを使うとコード量を減らせる\n",
    "change_words(l,lamda word: word.lower())"
   ]
  },
  {
   "cell_type": "code",
   "execution_count": null,
   "metadata": {},
   "outputs": [],
   "source": []
  }
 ]
}