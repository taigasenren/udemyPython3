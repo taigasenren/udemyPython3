{
 "metadata": {
  "language_info": {
   "codemirror_mode": {
    "name": "ipython",
    "version": 3
   },
   "file_extension": ".py",
   "mimetype": "text/x-python",
   "name": "python",
   "nbconvert_exporter": "python",
   "pygments_lexer": "ipython3",
   "version": "3.8.5-final"
  },
  "orig_nbformat": 2,
  "kernelspec": {
   "name": "python3",
   "display_name": "Python 3"
  }
 },
 "nbformat": 4,
 "nbformat_minor": 2,
 "cells": [
  {
   "cell_type": "code",
   "execution_count": null,
   "metadata": {},
   "outputs": [],
   "source": [
    "#if文\n",
    "x = 0\n",
    "#最後に:をつけるのを忘れない\n",
    "#インデントはスペース4つ\n",
    "#if文は最初に引っかかったところが先に表示される\n",
    "if x < 0:\n",
    "    print(\"kjhk\")\n",
    "elif x == 0:\n",
    "    print(\"ugiuy\")\n",
    "else:\n",
    "    print(\"div\")"
   ]
  },
  {
   "cell_type": "code",
   "execution_count": null,
   "metadata": {},
   "outputs": [],
   "source": [
    "a = 5\n",
    "b = 10\n",
    "\n",
    "#if文の中にif文を入れれる\n",
    "#インデントをあわせるだけで{}を入れなくていい\n",
    "if a > 0:\n",
    "    print(\"a is pos\")\n",
    "    if b > 0:\n",
    "        print(\"bi s\")\n"
   ]
  },
  {
   "cell_type": "code",
   "execution_count": null,
   "metadata": {},
   "outputs": [],
   "source": []
  }
 ]
}