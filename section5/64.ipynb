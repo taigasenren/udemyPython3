{
 "metadata": {
  "language_info": {
   "codemirror_mode": {
    "name": "ipython",
    "version": 3
   },
   "file_extension": ".py",
   "mimetype": "text/x-python",
   "name": "python",
   "nbconvert_exporter": "python",
   "pygments_lexer": "ipython3",
   "version": "3.8.5-final"
  },
  "orig_nbformat": 2,
  "kernelspec": {
   "name": "python3",
   "display_name": "Python 3"
  }
 },
 "nbformat": 4,
 "nbformat_minor": 2,
 "cells": [
  {
   "cell_type": "code",
   "execution_count": 6,
   "metadata": {},
   "outputs": [
    {
     "output_type": "stream",
     "name": "stdout",
     "text": [
      "f\nNone\n__main__\n"
     ]
    }
   ],
   "source": [
    "#名前空間とスコープ\n",
    "animal = \"cat\"\n",
    "\n",
    "def f():\n",
    "    #print(animal)\n",
    "    #ローカル変数の前アサインする前に参照しているおわてる\n",
    "    #global animal\n",
    "    #animal = \"dog\"\n",
    "    #print(\"after\",animal)\n",
    "    #print(\"local\",locals())\n",
    "    print(f.__name__)\n",
    "    print(f.__doc__)\n",
    "\n",
    "f()\n",
    "print(__name__)\n",
    "#print(\"global\",globals())"
   ]
  },
  {
   "cell_type": "code",
   "execution_count": null,
   "metadata": {},
   "outputs": [],
   "source": []
  }
 ]
}