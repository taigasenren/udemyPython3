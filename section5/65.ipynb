{
 "metadata": {
  "language_info": {
   "codemirror_mode": {
    "name": "ipython",
    "version": 3
   },
   "file_extension": ".py",
   "mimetype": "text/x-python",
   "name": "python",
   "nbconvert_exporter": "python",
   "pygments_lexer": "ipython3",
   "version": 3
  },
  "orig_nbformat": 2
 },
 "nbformat": 4,
 "nbformat_minor": 2,
 "cells": [
  {
   "cell_type": "code",
   "execution_count": null,
   "metadata": {},
   "outputs": [],
   "source": [
    "#位置引数のタプル化\n",
    "#３つ引数あったらprint等を３つ書くのはだるい\n",
    "#タプル化\n",
    "#*argsでまとめてタプル化できる\n",
    "def say_something(word, *args):\n",
    "    print(\"word  =\", word)\n",
    "    for arg in args:\n",
    "        print(arg)\n",
    "\n",
    "\"\"\"\n",
    "def say_something(word):\n",
    "    print(word)\n",
    "\"\"\"\n",
    "\n",
    "say_something(\"hi\",\"mike\",\"nande\")\n",
    "\n",
    "t = (\"mike\",\"nancy\")\n",
    "#*で展開する\n",
    "say_something(\"Hi!\",*t)\n",
    "#位置引数のタプル化\n",
    "#３つ引数あったらprint等を３つ書くのはだるい\n",
    "#タプル化\n",
    "#*argsでまとめてタプル化できる\n",
    "def say_something(word, *args):\n",
    "    print(\"word  =\", word)\n",
    "    for arg in args:\n",
    "        print(arg)\n",
    "\n",
    "\"\"\"\n",
    "def say_something(word):\n",
    "    print(word)\n",
    "\"\"\"\n",
    "\n",
    "say_something(\"hi\",\"mike\",\"nande\")\n",
    "\n",
    "t = (\"mike\",\"nancy\")\n",
    "#*で展開する\n",
    "say_something(\"Hi!\",*t)\n",
    "\n"
   ]
  }
 ]
}