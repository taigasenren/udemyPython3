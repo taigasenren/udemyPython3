{
 "metadata": {
  "language_info": {
   "codemirror_mode": {
    "name": "ipython",
    "version": 3
   },
   "file_extension": ".py",
   "mimetype": "text/x-python",
   "name": "python",
   "nbconvert_exporter": "python",
   "pygments_lexer": "ipython3",
   "version": "3.8.5-final"
  },
  "orig_nbformat": 2,
  "kernelspec": {
   "name": "python3",
   "display_name": "Python 3"
  }
 },
 "nbformat": 4,
 "nbformat_minor": 2,
 "cells": [
  {
   "cell_type": "code",
   "execution_count": 5,
   "metadata": {},
   "outputs": [
    {
     "output_type": "error",
     "ename": "SyntaxError",
     "evalue": "invalid syntax (<ipython-input-5-4e0b362c4e3a>, line 14)",
     "traceback": [
      "\u001b[0;36m  File \u001b[0;32m\"<ipython-input-5-4e0b362c4e3a>\"\u001b[0;36m, line \u001b[0;32m14\u001b[0m\n\u001b[0;31m    \"\"\"\u001b[0m\n\u001b[0m    ^\u001b[0m\n\u001b[0;31mSyntaxError\u001b[0m\u001b[0;31m:\u001b[0m invalid syntax\n"
     ]
    }
   ],
   "source": [
    "l = [1,2,3]\n",
    "i = 5\n",
    "\n",
    "try :\n",
    "    () + l\n",
    "\n",
    "except IndexError as exc:\n",
    "    print(\"dont worry{}\".format(ex))\n",
    "except NameError as exc:\n",
    "    print(ex)\n",
    "#すべてのexceptionをキャッチするのはよくない\n",
    "except Exception as exc:\n",
    "    print(\"other:{}\".format(ex))\n",
    "#elseは何も上で問題なければ出せる\n",
    "else:\n",
    "    print(\"done\")\n",
    "finally:\n",
    "    print(\"last\")\n",
    "\n",
    "\n"
   ]
  },
  {
   "cell_type": "code",
   "execution_count": null,
   "metadata": {},
   "outputs": [],
   "source": []
  }
 ]
}