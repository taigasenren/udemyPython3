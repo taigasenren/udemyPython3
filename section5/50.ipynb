{
 "metadata": {
  "language_info": {
   "codemirror_mode": {
    "name": "ipython",
    "version": 3
   },
   "file_extension": ".py",
   "mimetype": "text/x-python",
   "name": "python",
   "nbconvert_exporter": "python",
   "pygments_lexer": "ipython3",
   "version": "3.8.5-final"
  },
  "orig_nbformat": 2,
  "kernelspec": {
   "name": "python3",
   "display_name": "Python 3"
  }
 },
 "nbformat": 4,
 "nbformat_minor": 2,
 "cells": [
  {
   "cell_type": "code",
   "execution_count": 3,
   "metadata": {},
   "outputs": [
    {
     "output_type": "stream",
     "name": "stdout",
     "text": [
      "entree =  beef\ndrink =  ice\ndessert =  beer\n"
     ]
    }
   ],
   "source": [
    "#位置引数とキーワード引数\n",
    "#def menu(entree,drink,dessert):\n",
    "    print(\"entree = \",entree)\n",
    "    print(\"drink = \",drink)\n",
    "    print(\"dessert = \",dessert)\n",
    "\n",
    "#順序が重要\n",
    "#間違いを起こしたくないときはキーワード\n",
    "#menu(\"beef\",\"beer\",\"ice\")\n",
    "#menu(entree=\"beef\",drink=\"ice\",dessert=\"beer\")"
   ]
  },
  {
   "cell_type": "code",
   "execution_count": 13,
   "metadata": {},
   "outputs": [
    {
     "output_type": "stream",
     "name": "stdout",
     "text": [
      "entree =  ckigen\ndrink =  wine\ndessert =  ice\n"
     ]
    }
   ],
   "source": [
    "#デフォルト引数、何も入力しない場合の要素指定\n",
    "def menu(entree = \"beef\", drink = \"wine\", dessert = \"ice\"):\n",
    "    print(\"entree = \", entree)\n",
    "    print(\"drink = \", drink)\n",
    "    print(\"dessert = \", dessert)\n",
    "#これで上書き可能\n",
    "menu(entree=\"ckigen\")"
   ]
  },
  {
   "cell_type": "code",
   "execution_count": null,
   "metadata": {},
   "outputs": [],
   "source": []
  }
 ]
}