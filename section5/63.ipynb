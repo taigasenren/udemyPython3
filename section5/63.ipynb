{
 "metadata": {
  "language_info": {
   "codemirror_mode": {
    "name": "ipython",
    "version": 3
   },
   "file_extension": ".py",
   "mimetype": "text/x-python",
   "name": "python",
   "nbconvert_exporter": "python",
   "pygments_lexer": "ipython3",
   "version": "3.8.5-final"
  },
  "orig_nbformat": 2,
  "kernelspec": {
   "name": "python3",
   "display_name": "Python 3"
  }
 },
 "nbformat": 4,
 "nbformat_minor": 2,
 "cells": [
  {
   "cell_type": "code",
   "execution_count": 2,
   "metadata": {},
   "outputs": [
    {
     "output_type": "stream",
     "name": "stdout",
     "text": [
      "<class 'generator'>\n0\n1\n2\n"
     ]
    }
   ],
   "source": [
    "#ジェネレータ内包表記　\n",
    "def g():\n",
    "    for i in range(10):\n",
    "        yield i \n",
    "\n",
    "g = g()\n",
    "\n",
    "g = (i for i in range(10))\n",
    "print(type(g))\n",
    "print(next(g))\n",
    "print(next(g))\n",
    "print(next(g))"
   ]
  },
  {
   "cell_type": "code",
   "execution_count": 5,
   "metadata": {},
   "outputs": [
    {
     "output_type": "stream",
     "name": "stdout",
     "text": [
      "<class 'tuple'>\n(0, 2, 4, 6, 8)\n(0, 2, 4, 6, 8)\n(0, 2, 4, 6, 8)\n0\n2\n4\n6\n8\n"
     ]
    }
   ],
   "source": [
    "#ジェネレータ内包表記　\n",
    "def g():\n",
    "    for i in range(10):\n",
    "        yield i \n",
    "\n",
    "g = g()\n",
    "\n",
    "g = tuple(i for i in range(10) if i % 2 == 0)\n",
    "print(type(g))\n",
    "print(g)\n",
    "print(g)\n",
    "print(g)\n",
    "\n",
    "for x in g :\n",
    "    print(x)"
   ]
  },
  {
   "cell_type": "code",
   "execution_count": null,
   "metadata": {},
   "outputs": [],
   "source": []
  }
 ]
}