{
 "metadata": {
  "language_info": {
   "codemirror_mode": {
    "name": "ipython",
    "version": 3
   },
   "file_extension": ".py",
   "mimetype": "text/x-python",
   "name": "python",
   "nbconvert_exporter": "python",
   "pygments_lexer": "ipython3",
   "version": "3.8.5-final"
  },
  "orig_nbformat": 2,
  "kernelspec": {
   "name": "python3",
   "display_name": "Python 3"
  }
 },
 "nbformat": 4,
 "nbformat_minor": 2,
 "cells": [
  {
   "cell_type": "code",
   "execution_count": 2,
   "metadata": {},
   "outputs": [
    {
     "output_type": "stream",
     "name": "stdout",
     "text": [
      "[1, 2, 3, 4, 5]\n[1, 2, 3, 4, 5]\n"
     ]
    }
   ],
   "source": [
    "#リスト内包表記\n",
    "\n",
    "t = (1,2,3,4,5)\n",
    "\n",
    "r = []\n",
    "for i in t:\n",
    "    r.append(i)\n",
    "\n",
    "print(r)\n",
    "\n",
    "#上記のようにappendしなくてもこれでリストを作成可能\n",
    "r = [i for i in t]\n",
    "print(r)"
   ]
  },
  {
   "cell_type": "code",
   "execution_count": 4,
   "metadata": {},
   "outputs": [
    {
     "output_type": "stream",
     "name": "stdout",
     "text": [
      "[2, 4]\n[1, 2, 3, 4, 5]\n[5, 6, 7, 8, 9, 10, 10, 12, 14, 16, 18, 20, 15, 18, 21, 24, 27, 30, 20, 24, 28, 32, 36, 40, 25, 30, 35, 40, 45, 50]\n[5, 6, 7, 8, 9, 10, 10, 12, 14, 16, 18, 20, 15, 18, 21, 24, 27, 30, 20, 24, 28, 32, 36, 40, 25, 30, 35, 40, 45, 50]\n"
     ]
    }
   ],
   "source": [
    "\n",
    "t = (1,2,3,4,5)\n",
    "t2 = (5,6,7,8,9,10)\n",
    "\n",
    "r = []\n",
    "for i in t:\n",
    "    if i % 2 == 0:\n",
    "        r.append(i)\n",
    "\n",
    "print(r)\n",
    "\n",
    "#上記のようにappendしなくてもこれでリストを作成可能\n",
    "r = [i for i in t]\n",
    "print(r)\n",
    "\n",
    "r = []\n",
    "for i in t:\n",
    "    for j in t2:\n",
    "        r.append(i*j)\n",
    "\n",
    "print(r)\n",
    "\n",
    "r = [i*j for i in t for j in t2]\n",
    "print(r)"
   ]
  },
  {
   "cell_type": "code",
   "execution_count": null,
   "metadata": {},
   "outputs": [],
   "source": []
  }
 ]
}