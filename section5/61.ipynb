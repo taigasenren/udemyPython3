{
 "metadata": {
  "language_info": {
   "codemirror_mode": {
    "name": "ipython",
    "version": 3
   },
   "file_extension": ".py",
   "mimetype": "text/x-python",
   "name": "python",
   "nbconvert_exporter": "python",
   "pygments_lexer": "ipython3",
   "version": "3.8.5-final"
  },
  "orig_nbformat": 2,
  "kernelspec": {
   "name": "python3",
   "display_name": "Python 3"
  }
 },
 "nbformat": 4,
 "nbformat_minor": 2,
 "cells": [
  {
   "cell_type": "code",
   "execution_count": 4,
   "metadata": {},
   "outputs": [
    {
     "output_type": "stream",
     "name": "stdout",
     "text": [
      "{'mon': 'coffee', 'tue': 'milk', 'wed': 'water'}\n{'mon': 'coffee', 'tue': 'milk', 'wed': 'water'}\n"
     ]
    }
   ],
   "source": [
    "#辞書縫合表記\n",
    "w = [\"mon\",\"tue\",\"wed\"]\n",
    "f = [\"coffee\",\"milk\",\"water\"]\n",
    "\n",
    "d = {}\n",
    "for x,y in zip(w,f):\n",
    "    d[x] = y\n",
    "\n",
    "print(d)\n",
    "\n",
    "d = {x:y for x,y in zip (w,f)}\n",
    "print(d)"
   ]
  },
  {
   "cell_type": "code",
   "execution_count": null,
   "metadata": {},
   "outputs": [],
   "source": []
  }
 ]
}