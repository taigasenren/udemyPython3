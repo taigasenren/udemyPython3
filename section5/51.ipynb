{
 "metadata": {
  "language_info": {
   "codemirror_mode": {
    "name": "ipython",
    "version": 3
   },
   "file_extension": ".py",
   "mimetype": "text/x-python",
   "name": "python",
   "nbconvert_exporter": "python",
   "pygments_lexer": "ipython3",
   "version": "3.8.5-final"
  },
  "orig_nbformat": 2,
  "kernelspec": {
   "name": "python3",
   "display_name": "Python 3"
  }
 },
 "nbformat": 4,
 "nbformat_minor": 2,
 "cells": [
  {
   "cell_type": "code",
   "execution_count": 5,
   "metadata": {},
   "outputs": [
    {
     "output_type": "stream",
     "name": "stdout",
     "text": [
      "[100]\n[100]\n"
     ]
    }
   ],
   "source": [
    "\"\"\"\n",
    "def test_func(x,l = []):\n",
    "    l.append(x)\n",
    "    return l\n",
    "\"\"\"\n",
    "\n",
    "def test_func(x,l = None):\n",
    "    #noneを用いてからのリストを作成\n",
    "    if l is None:\n",
    "        #からのリストを自分で初期化可能\n",
    "        l = []\n",
    "    l.append(x)\n",
    "    return l\n",
    "\n",
    "\"\"\"\n",
    "y = [1,2,3]\n",
    "r = test_func(100,y)\n",
    "print(r)\n",
    "\n",
    "y = [1,2,3]\n",
    "r = test_func(200,y)\n",
    "print(r)\n",
    "\"\"\"\n",
    "\n",
    "r = test_func(100)\n",
    "print(r)\n",
    "#連続で入れると連続で追加される\n",
    "r = test_func(100)\n",
    "print(r)\n"
   ]
  },
  {
   "cell_type": "code",
   "execution_count": null,
   "metadata": {},
   "outputs": [],
   "source": []
  }
 ]
}