{
 "metadata": {
  "language_info": {
   "codemirror_mode": {
    "name": "ipython",
    "version": 3
   },
   "file_extension": ".py",
   "mimetype": "text/x-python",
   "name": "python",
   "nbconvert_exporter": "python",
   "pygments_lexer": "ipython3",
   "version": "3.9.0-final"
  },
  "orig_nbformat": 2,
  "kernelspec": {
   "name": "python3",
   "display_name": "Python 3"
  }
 },
 "nbformat": 4,
 "nbformat_minor": 2,
 "cells": [
  {
   "cell_type": "code",
   "execution_count": 1,
   "metadata": {},
   "outputs": [
    {
     "output_type": "stream",
     "name": "stdout",
     "text": [
      "/Users/hatakey/taiga/udemyPython3\n<class 'str'>\n/Users/hatakey/taiga/udemyPython3.zip\n"
     ]
    }
   ],
   "source": [
    "#現在いるディレクトリをzipファイル化するシステム\n",
    "import os\n",
    "import shutil\n",
    "\n",
    "cd = os.getcwd()\n",
    "print(cd)\n",
    "print(type(cd))\n",
    "\n",
    "name = cd + \".zip\"\n",
    "\n",
    "print(shutil.make_archive(cd, 'zip', root_dir = cd))"
   ]
  },
  {
   "cell_type": "code",
   "execution_count": null,
   "metadata": {},
   "outputs": [],
   "source": []
  }
 ]
}