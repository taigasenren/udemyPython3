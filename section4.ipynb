{
 "metadata": {
  "language_info": {
   "codemirror_mode": {
    "name": "ipython",
    "version": 3
   },
   "file_extension": ".py",
   "mimetype": "text/x-python",
   "name": "python",
   "nbconvert_exporter": "python",
   "pygments_lexer": "ipython3",
   "version": "3.8.5-final"
  },
  "orig_nbformat": 2,
  "kernelspec": {
   "name": "python3",
   "display_name": "Python 3"
  }
 },
 "nbformat": 4,
 "nbformat_minor": 2,
 "cells": [
  {
   "cell_type": "code",
   "execution_count": 9,
   "metadata": {},
   "outputs": [
    {
     "output_type": "stream",
     "name": "stdout",
     "text": [
      "['i', 'u', 'h', 'a', 'i', 'g']\n['x', 'u', 'h', 'a', 'i', 'g']\n['x', 'u', 'g']\n['x', 'u', 'g', 100]\n"
     ]
    },
    {
     "output_type": "error",
     "ename": "NameError",
     "evalue": "name 's' is not defined",
     "traceback": [
      "\u001b[0;31m---------------------------------------------------------------------------\u001b[0m",
      "\u001b[0;31mNameError\u001b[0m                                 Traceback (most recent call last)",
      "\u001b[0;32m<ipython-input-9-3af021a4e0e7>\u001b[0m in \u001b[0;36m<module>\u001b[0;34m\u001b[0m\n\u001b[1;32m     15\u001b[0m \u001b[0;31m#delで削除可能\u001b[0m\u001b[0;34m\u001b[0m\u001b[0;34m\u001b[0m\u001b[0;34m\u001b[0m\u001b[0m\n\u001b[1;32m     16\u001b[0m \u001b[0;32mdel\u001b[0m \u001b[0ms\u001b[0m\u001b[0;34m\u001b[0m\u001b[0;34m\u001b[0m\u001b[0m\n\u001b[0;32m---> 17\u001b[0;31m \u001b[0mprint\u001b[0m\u001b[0;34m(\u001b[0m\u001b[0ms\u001b[0m\u001b[0;34m)\u001b[0m\u001b[0;34m\u001b[0m\u001b[0;34m\u001b[0m\u001b[0m\n\u001b[0m\u001b[1;32m     18\u001b[0m \u001b[0;31m#.removeで排除\u001b[0m\u001b[0;34m\u001b[0m\u001b[0;34m\u001b[0m\u001b[0;34m\u001b[0m\u001b[0m\n\u001b[1;32m     19\u001b[0m \u001b[0mn\u001b[0m \u001b[0;34m=\u001b[0m \u001b[0mlist\u001b[0m\u001b[0;34m(\u001b[0m\u001b[0;34m\"jhgki\"\u001b[0m\u001b[0;34m)\u001b[0m\u001b[0;34m\u001b[0m\u001b[0;34m\u001b[0m\u001b[0m\n",
      "\u001b[0;31mNameError\u001b[0m: name 's' is not defined"
     ]
    }
   ],
   "source": [
    "s = list(\"iuhaig\")\n",
    "print(s)\n",
    "s[0]\n",
    "#配列は置き換え可能\n",
    "s[0] = \"x\"\n",
    "print(s)\n",
    "#指定の数字の番号まで空白に置き換えも可能\n",
    "s[2:5] = []\n",
    "print(s)\n",
    "#最後に追加でappend,最初に挿入でinsert\n",
    "s.append(100)\n",
    "print(s)\n",
    "#最後のを取るときはpop,(0)とすると最初のを取れる\n",
    "s.pop(0)\n",
    "#delで削除可能\n",
    "del s \n",
    "print(s)\n",
    "#.removeで排除\n"
   ]
  },
  {
   "cell_type": "code",
   "execution_count": 10,
   "metadata": {},
   "outputs": [
    {
     "output_type": "stream",
     "name": "stdout",
     "text": [
      "['j', 'h', 'g', 'i']\n"
     ]
    }
   ],
   "source": [
    "n = list(\"jhgki\")\n",
    "#removeで排除\n",
    "n.remove(\"k\")\n",
    "print(n)"
   ]
  },
  {
   "cell_type": "code",
   "execution_count": 12,
   "metadata": {},
   "outputs": [
    {
     "output_type": "stream",
     "name": "stdout",
     "text": [
      "['1', '2', '3', '4', '5', '6', '7', '8', '9', '0']\n"
     ]
    }
   ],
   "source": [
    "a = list(\"123456\")\n",
    "b = list(\"7890\")\n",
    "# += で最初の変数にリストを追加できる\n",
    "a += b\n",
    "print(a)"
   ]
  },
  {
   "cell_type": "code",
   "execution_count": 13,
   "metadata": {},
   "outputs": [
    {
     "output_type": "stream",
     "name": "stdout",
     "text": [
      "['7', '8', '9', '0', '1', '2', '3', '4', '5', '6']\n"
     ]
    }
   ],
   "source": [
    "a = list(\"123456\")\n",
    "b = list(\"7890\")\n",
    "#.extendを使うと引数に入った配列を最初に宣言した変数に代入することが可能\n",
    "b.extend(a)\n",
    "print(b)"
   ]
  },
  {
   "cell_type": "code",
   "execution_count": 19,
   "metadata": {},
   "outputs": [
    {
     "output_type": "stream",
     "name": "stdout",
     "text": [
      "2\n4\n"
     ]
    }
   ],
   "source": [
    "#数値はlist変換できない\n",
    "#r = list(123456123)\n",
    "r = [1,2,3,4,3,1]\n",
    "#.indexで指定の文字列が何個入っているかを見ることができる\n",
    "print(r.index(3))\n",
    "#二個目の3が3から何番目か\n",
    "print(r.index(3,3))"
   ]
  },
  {
   "cell_type": "code",
   "execution_count": 4,
   "metadata": {},
   "outputs": [
    {
     "output_type": "execute_result",
     "data": {
      "text/plain": [
       "['s', 'b', 'c', 'd', 'e', 'f', 'g']"
      ]
     },
     "metadata": {},
     "execution_count": 4
    }
   ],
   "source": [
    "s = list(\"abcdefg\")\n",
    "s\n",
    "s[0] = \"s\"\n",
    "s\n",
    "配列の入れ替えはそれなりに簡単"
   ]
  },
  {
   "cell_type": "code",
   "execution_count": null,
   "metadata": {},
   "outputs": [],
   "source": []
  }
 ]
}