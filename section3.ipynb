{
 "metadata": {
  "language_info": {
   "codemirror_mode": {
    "name": "ipython",
    "version": 3
   },
   "file_extension": ".py",
   "mimetype": "text/x-python",
   "name": "python",
   "nbconvert_exporter": "python",
   "pygments_lexer": "ipython3",
   "version": "3.8.5-final"
  },
  "orig_nbformat": 2,
  "kernelspec": {
   "name": "python3",
   "display_name": "Python 3"
  }
 },
 "nbformat": 4,
 "nbformat_minor": 2,
 "cells": [
  {
   "cell_type": "code",
   "execution_count": 1,
   "metadata": {},
   "outputs": [
    {
     "output_type": "stream",
     "name": "stdout",
     "text": [
      "hello\n"
     ]
    }
   ],
   "source": [
    "print(\"hello\"形型\n"
   ]
  },
  {
   "cell_type": "code",
   "execution_count": 9,
   "metadata": {},
   "outputs": [
    {
     "output_type": "stream",
     "name": "stdout",
     "text": [
      "1 <class 'int'>\n1 <class 'int'>\nTrue <class 'bool'>\n"
     ]
    }
   ],
   "source": [
    "#変数: 型で型宣言ができるけど特にいらない\n",
    "num: int = 1\n",
    "name: str = '1'\n",
    "is_ok = True\n",
    "#データ型(変数)で変数を指定のデータ型に変更可能\n",
    "new_num = int(name)\n",
    "\n",
    "print(num,type(num))\n",
    "print(new_num,type(new_num))\n",
    "#bool  =　ブーリアン（真偽型）\n",
    "#type関数でデータ型の把握\n",
    "print(is_ok,type(is_ok))"
   ]
  },
  {
   "cell_type": "code",
   "execution_count": 14,
   "metadata": {},
   "outputs": [
    {
     "output_type": "stream",
     "name": "stdout",
     "text": [
      "hi,Mike\nhi,Mike\n"
     ]
    }
   ],
   "source": [
    "#,で分けると空白で表現\n",
    "#sep = \",\"と宣言することで間の空白を,に変更可能\n",
    "#end = \"\\n\"と宣言することで最後を改行の設定に\n",
    "print(\"hi\",\"Mike\",sep = \",\",end = \"\\n\")\n",
    "print(\"hi\",\"Mike\",sep = \",\",end = \"\\n\")\n",
    "print(\"hi\",\"Mike\",sep = \",\",end = \"\\n\")\n"
   ]
  },
  {
   "cell_type": "code",
   "execution_count": null,
   "metadata": {},
   "outputs": [],
   "source": []
  }
 ]
}