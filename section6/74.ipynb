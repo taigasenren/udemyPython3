{
 "metadata": {
  "language_info": {
   "codemirror_mode": {
    "name": "ipython",
    "version": 3
   },
   "file_extension": ".py",
   "mimetype": "text/x-python",
   "name": "python",
   "nbconvert_exporter": "python",
   "pygments_lexer": "ipython3",
   "version": "3.9.0-final"
  },
  "orig_nbformat": 2,
  "kernelspec": {
   "name": "python3",
   "display_name": "Python 3"
  }
 },
 "nbformat": 4,
 "nbformat_minor": 2,
 "cells": [
  {
   "cell_type": "code",
   "execution_count": 1,
   "metadata": {},
   "outputs": [
    {
     "output_type": "stream",
     "name": "stdout",
     "text": [
      "{'y': 1, 'j': 2, 'f': 4, 'd': 3, 'a': 3, 'o': 1, 'l': 2, 's': 3, 'h': 2, 'k': 2, 'u': 1, 'g': 1, ';': 1}\n"
     ]
    }
   ],
   "source": [
    "s = \"yjfdfaolshfdaksugfdjha;skl\"\n",
    "\n",
    "#文字列の中にアルファベットがそれぞれ何個あるかを辞書化して出す\n",
    "#辞書化\n",
    "d = {}\n",
    "for c in s:\n",
    "    if c not in d:\n",
    "        d[c] = 0\n",
    "    d[c] += 1\n",
    "print(d)"
   ]
  },
  {
   "cell_type": "code",
   "execution_count": 2,
   "metadata": {},
   "outputs": [
    {
     "output_type": "stream",
     "name": "stdout",
     "text": [
      "{'y': 1, 'j': 2, 'f': 4, 'd': 3, 'a': 3, 'o': 1, 'l': 2, 's': 3, 'h': 2, 'k': 2, 'u': 1, 'g': 1, ';': 1}\n"
     ]
    }
   ],
   "source": [
    "s = \"yjfdfaolshfdaksugfdjha;skl\"\n",
    "\n",
    "#文字列の中にアルファベットがそれぞれ何個あるかを辞書化して出す\n",
    "#辞書化\n",
    "d = {}\n",
    "for c in s:\n",
    "    #cがなければ0を常に入れる.setedefaultで\n",
    "    d.setdefault(c,0)\n",
    "    d[c] += 1\n",
    "print(d)"
   ]
  },
  {
   "cell_type": "code",
   "execution_count": 4,
   "metadata": {},
   "outputs": [
    {
     "output_type": "stream",
     "name": "stdout",
     "text": [
      "defaultdict(<class 'int'>, {'y': 1, 'j': 2, 'f': 4, 'd': 3, 'a': 3, 'o': 1, 'l': 2, 's': 3, 'h': 2, 'k': 2, 'u': 1, 'g': 1, ';': 1})\n4\n"
     ]
    }
   ],
   "source": [
    "from collections import defaultdict\n",
    "s = \"yjfdfaolshfdaksugfdjha;skl\"\n",
    "\n",
    "#文字列の中にアルファベットがそれぞれ何個あるかを辞書化して出す\n",
    "#辞書化\n",
    "#dをライブラリの関数と設定する\n",
    "d = defaultdict(int)\n",
    "\n",
    "for c in s:\n",
    "    #cがなければ0を常に入れる.setedefaultで\n",
    "    d[c] += 1\n",
    "print(d)\n",
    "\n",
    "print(d[\"f\"])"
   ]
  },
  {
   "cell_type": "code",
   "execution_count": null,
   "metadata": {},
   "outputs": [],
   "source": []
  }
 ]
}