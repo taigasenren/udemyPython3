{
 "metadata": {
  "language_info": {
   "codemirror_mode": {
    "name": "ipython",
    "version": 3
   },
   "file_extension": ".py",
   "mimetype": "text/x-python",
   "name": "python",
   "nbconvert_exporter": "python",
   "pygments_lexer": "ipython3",
   "version": "3.8.5-final"
  },
  "orig_nbformat": 2,
  "kernelspec": {
   "name": "python3",
   "display_name": "Python 3"
  }
 },
 "nbformat": 4,
 "nbformat_minor": 2,
 "cells": [
  {
   "cell_type": "code",
   "execution_count": 7,
   "metadata": {},
   "outputs": [
    {
     "output_type": "execute_result",
     "data": {
      "text/plain": [
       "True"
      ]
     },
     "metadata": {},
     "execution_count": 7
    }
   ],
   "source": [
    "#リストの使い所について\n",
    "#タクシーのゲーム\n",
    "seat = []\n",
    "min = 0 \n",
    "max = 5\n",
    "min <= len(seat) < max\n",
    "seat.append(\"p\")\n",
    "seat.append(\"p\")\n",
    "seat.append(\"p\")\n",
    "seat.append(\"p\")\n",
    "seat.append(\"p\")\n",
    "len(seat)\n",
    "min <= len(seat) < max\n",
    "seat.pop(0)\n",
    "min <= len(seat) < max"
   ]
  },
  {
   "cell_type": "code",
   "execution_count": null,
   "metadata": {},
   "outputs": [],
   "source": []
  }
 ]
}