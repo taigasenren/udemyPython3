{
 "metadata": {
  "language_info": {
   "codemirror_mode": {
    "name": "ipython",
    "version": 3
   },
   "file_extension": ".py",
   "mimetype": "text/x-python",
   "name": "python",
   "nbconvert_exporter": "python",
   "pygments_lexer": "ipython3",
   "version": "3.8.5-final"
  },
  "orig_nbformat": 2,
  "kernelspec": {
   "name": "python3",
   "display_name": "Python 3"
  }
 },
 "nbformat": 4,
 "nbformat_minor": 2,
 "cells": [
  {
   "cell_type": "code",
   "execution_count": 1,
   "metadata": {},
   "outputs": [
    {
     "output_type": "stream",
     "name": "stdout",
     "text": [
      "{'c', 'b'}\n"
     ]
    }
   ],
   "source": [
    "#集合の使い所\n",
    "my_friends = {\"a\",\"b\",\"c\"}\n",
    "A_friends = {\"b\",\"d\",\"c\"}\n",
    "#共通の友達を出す\n",
    "print(my_friends & A_friends)"
   ]
  },
  {
   "cell_type": "code",
   "execution_count": 2,
   "metadata": {},
   "outputs": [
    {
     "output_type": "stream",
     "name": "stdout",
     "text": [
      "{'apple', 'banana'}\n"
     ]
    }
   ],
   "source": [
    "f = [\"apple\",\"banana\",\"apple\",\"banana\"]\n",
    "#setでdict型に型変換可能\n",
    "kind = set(f)\n",
    "print(kind)"
   ]
  },
  {
   "cell_type": "code",
   "execution_count": null,
   "metadata": {},
   "outputs": [],
   "source": []
  }
 ]
}