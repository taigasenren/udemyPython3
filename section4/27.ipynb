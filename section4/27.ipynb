{
 "metadata": {
  "language_info": {
   "codemirror_mode": {
    "name": "ipython",
    "version": 3
   },
   "file_extension": ".py",
   "mimetype": "text/x-python",
   "name": "python",
   "nbconvert_exporter": "python",
   "pygments_lexer": "ipython3",
   "version": "3.8.5-final"
  },
  "orig_nbformat": 2,
  "kernelspec": {
   "name": "python3",
   "display_name": "Python 3"
  }
 },
 "nbformat": 4,
 "nbformat_minor": 2,
 "cells": [
  {
   "cell_type": "code",
   "execution_count": 2,
   "metadata": {},
   "outputs": [
    {
     "output_type": "stream",
     "name": "stdout",
     "text": [
      "100\n"
     ]
    }
   ],
   "source": [
    "#辞書型の使いどころ\n",
    "#listは探しづらい\n",
    "#本の1ページ目から探しにいかないといけない\n",
    "l = [\n",
    "    [\"apple\" :100],\n",
    "    [\"apple2\" :1030],\n",
    "    [\"apple3\" :1010],\n",
    "]\n",
    "\n",
    "#dictは早い\n",
    "#本の目次？\n",
    "fruits = {\n",
    "    \"apple\" :100,\n",
    "    \"apple2\" :1030,\n",
    "    \"apple3\" :1010,\n",
    "}\n",
    "\n",
    "print(fruits[\"apple\"])"
   ]
  },
  {
   "cell_type": "code",
   "execution_count": null,
   "metadata": {},
   "outputs": [],
   "source": []
  }
 ]
}