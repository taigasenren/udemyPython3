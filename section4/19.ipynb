{
 "metadata": {
  "language_info": {
   "codemirror_mode": {
    "name": "ipython",
    "version": 3
   },
   "file_extension": ".py",
   "mimetype": "text/x-python",
   "name": "python",
   "nbconvert_exporter": "python",
   "pygments_lexer": "ipython3",
   "version": "3.8.5-final"
  },
  "orig_nbformat": 2,
  "kernelspec": {
   "name": "python3",
   "display_name": "Python 3"
  }
 },
 "nbformat": 4,
 "nbformat_minor": 2,
 "cells": [
  {
   "cell_type": "code",
   "execution_count": 2,
   "metadata": {},
   "outputs": [
    {
     "output_type": "stream",
     "name": "stdout",
     "text": [
      "j = [100, 2, 3, 4, 5]\ni = [100, 2, 3, 4, 5]\n"
     ]
    }
   ],
   "source": [
    "#リストのコピーについて\n",
    "#値渡しと参照渡しについて\n",
    "i = [1,2,3,4,5]\n",
    "j = i \n",
    "#100がiにもうつってしまう\n",
    "j[0] = 100\n",
    "print(\"j =\", j)\n",
    "print(\"i =\", i)"
   ]
  },
  {
   "cell_type": "code",
   "execution_count": 3,
   "metadata": {},
   "outputs": [
    {
     "output_type": "stream",
     "name": "stdout",
     "text": [
      "x = [1, 2, 3, 4, 5]\ny = [100, 2, 3, 4, 5]\n"
     ]
    }
   ],
   "source": [
    "x = [1,2,3,4,5]\n",
    "#.copyとすることで連動せずに値のの変更が可能\n",
    "y = x.copy()\n",
    "y[0] = 100\n",
    "print(\"x =\", x)\n",
    "print(\"y =\", y)"
   ]
  },
  {
   "cell_type": "code",
   "execution_count": 4,
   "metadata": {},
   "outputs": [
    {
     "output_type": "stream",
     "name": "stdout",
     "text": [
      "4385761536\n4385742336\n"
     ]
    }
   ],
   "source": [
    "X = 20\n",
    "Y = X \n",
    "Y = 5 \n",
    "#idはオブジェクトのidを表示してくれる\n",
    "print(id(x))\n",
    "print(id(y))"
   ]
  },
  {
   "cell_type": "code",
   "execution_count": 5,
   "metadata": {},
   "outputs": [
    {
     "output_type": "stream",
     "name": "stdout",
     "text": [
      "4385706368\n4385706368\n"
     ]
    }
   ],
   "source": [
    "X = [\"a\",\"b\"]\n",
    "Y = X \n",
    "Y[0] = \"p\"\n",
    "#この場合idが一緒、リストを使った参照渡しは一緒\n",
    "print(id(X))\n",
    "print(id(Y))"
   ]
  },
  {
   "cell_type": "code",
   "execution_count": null,
   "metadata": {},
   "outputs": [],
   "source": []
  }
 ]
}