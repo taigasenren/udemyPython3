{
 "metadata": {
  "language_info": {
   "codemirror_mode": {
    "name": "ipython",
    "version": 3
   },
   "file_extension": ".py",
   "mimetype": "text/x-python",
   "name": "python",
   "nbconvert_exporter": "python",
   "pygments_lexer": "ipython3",
   "version": "3.8.5-final"
  },
  "orig_nbformat": 2,
  "kernelspec": {
   "name": "python3",
   "display_name": "Python 3"
  }
 },
 "nbformat": 4,
 "nbformat_minor": 2,
 "cells": [
  {
   "cell_type": "code",
   "execution_count": 14,
   "metadata": {},
   "outputs": [
    {
     "output_type": "execute_result",
     "data": {
      "text/plain": [
       "{'j': 2000}"
      ]
     },
     "metadata": {},
     "execution_count": 14
    }
   ],
   "source": [
    "#辞書型のメソッド\n",
    "d = {\"x\":10,\"y\":20}\n",
    "d\n",
    "#代表的なメソッド\n",
    "#.keysでキーの値を確認\n",
    "d.keys()\n",
    "#.valuesでバリューの値を確認\n",
    "d.values()\n",
    "d2 = {\"x\":1000,\"j\":2000}\n",
    "#.updateで追加することが可能(正確には上書き)\n",
    "d.update(d2)\n",
    "d\n",
    "#キーの指定のばりゅーをゲット\n",
    "d.get(\"x\")\n",
    "#.popでキーの値等削除\n",
    "d.pop(\"x\")\n",
    "d\n",
    "#delで削除が可能\n",
    "del d[\"y\"]\n",
    "d\n"
   ]
  },
  {
   "cell_type": "code",
   "execution_count": 18,
   "metadata": {},
   "outputs": [
    {
     "output_type": "execute_result",
     "data": {
      "text/plain": [
       "True"
      ]
     },
     "metadata": {},
     "execution_count": 18
    }
   ],
   "source": [
    "a = {\"x\":1000,\"j\":2000}\n",
    "#clearで中身がからの辞書型にできる\n",
    "#a.clear()\n",
    "#入っているかどうかをbool型で見れる\n",
    "\"x\" in a"
   ]
  },
  {
   "cell_type": "code",
   "execution_count": null,
   "metadata": {},
   "outputs": [],
   "source": []
  }
 ]
}