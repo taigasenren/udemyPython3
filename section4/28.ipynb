{
 "metadata": {
  "language_info": {
   "codemirror_mode": {
    "name": "ipython",
    "version": 3
   },
   "file_extension": ".py",
   "mimetype": "text/x-python",
   "name": "python",
   "nbconvert_exporter": "python",
   "pygments_lexer": "ipython3",
   "version": "3.8.5-final"
  },
  "orig_nbformat": 2,
  "kernelspec": {
   "name": "python3",
   "display_name": "Python 3"
  }
 },
 "nbformat": 4,
 "nbformat_minor": 2,
 "cells": [
  {
   "cell_type": "code",
   "execution_count": 8,
   "metadata": {},
   "outputs": [
    {
     "output_type": "execute_result",
     "data": {
      "text/plain": [
       "{1, 2, 4}"
      ]
     },
     "metadata": {},
     "execution_count": 8
    }
   ],
   "source": [
    "#集合型\n",
    "a = {1,2,2,3,4,4,4,5,6}\n",
    "#すべて統合される\n",
    "a\n",
    "#setというタイプになる\n",
    "type(a)\n",
    "b = {3,5,6}\n",
    "#これでだぶりを削除可能\n",
    "#a - b\n",
    "b - a \n",
    "#&が且つの意味　＋はだめ\n",
    "a & b \n",
    "#|ですべてを出す\n",
    "a | b\n",
    "#^でかぶってないものをすべてを出す\n",
    "a ^ b"
   ]
  },
  {
   "cell_type": "code",
   "execution_count": null,
   "metadata": {},
   "outputs": [],
   "source": [
    "b = {1,2,2,3,4,4,4,5,6}"
   ]
  }
 ]
}