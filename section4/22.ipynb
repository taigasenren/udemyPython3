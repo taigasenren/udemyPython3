{
 "metadata": {
  "language_info": {
   "codemirror_mode": {
    "name": "ipython",
    "version": 3
   },
   "file_extension": ".py",
   "mimetype": "text/x-python",
   "name": "python",
   "nbconvert_exporter": "python",
   "pygments_lexer": "ipython3",
   "version": "3.8.5-final"
  },
  "orig_nbformat": 2,
  "kernelspec": {
   "name": "python3",
   "display_name": "Python 3"
  }
 },
 "nbformat": 4,
 "nbformat_minor": 2,
 "cells": [
  {
   "cell_type": "code",
   "execution_count": 2,
   "metadata": {},
   "outputs": [
    {
     "output_type": "stream",
     "name": "stdout",
     "text": [
      "(10, 20)\n10 20\n10 20\n"
     ]
    }
   ],
   "source": [
    "#タプルのアンパッキング\n",
    "num_tuple = (10,20)\n",
    "print(num_tuple)\n",
    "\n",
    "#xとyに10と20をいれるのと同じになる\n",
    "x,y = num_tuple\n",
    "print(x,y)\n",
    "\n",
    "#パレンティスのかっこいらずに作れる\n",
    "x,y = 10,20\n",
    "print(x,y)"
   ]
  },
  {
   "source": [],
   "cell_type": "markdown",
   "metadata": {}
  },
  {
   "cell_type": "code",
   "execution_count": 3,
   "metadata": {},
   "outputs": [
    {
     "output_type": "stream",
     "name": "stdout",
     "text": [
      "0 100\n"
     ]
    }
   ],
   "source": [
    "min,max = 0,100\n",
    "print(min,max)"
   ]
  },
  {
   "cell_type": "code",
   "execution_count": 5,
   "metadata": {},
   "outputs": [
    {
     "output_type": "execute_result",
     "data": {
      "text/plain": [
       "'ih'"
      ]
     },
     "metadata": {},
     "execution_count": 5
    }
   ],
   "source": [
    "#これがあまりに長いと見づらいので\n",
    "a,b,= \"ih\",\"sa\"\n",
    "a\n",
    "#下のように列挙するほうがいい\n",
    "a = \"adsaf\"\n",
    "b = \"kjh\""
   ]
  },
  {
   "cell_type": "code",
   "execution_count": 6,
   "metadata": {},
   "outputs": [
    {
     "output_type": "stream",
     "name": "stdout",
     "text": [
      "20 10\n"
     ]
    }
   ],
   "source": [
    "i = 10\n",
    "j = 20 \n",
    "tmp = i\n",
    "i = j\n",
    "j = tmp\n",
    "print(i,j)"
   ]
  },
  {
   "cell_type": "code",
   "execution_count": 7,
   "metadata": {},
   "outputs": [
    {
     "output_type": "stream",
     "name": "stdout",
     "text": [
      "100 200\n200 100\n"
     ]
    }
   ],
   "source": [
    "#上のコードをアンパッキングを使うと簡単にできる\n",
    "a = 100\n",
    "b = 200\n",
    "print(a,b)\n",
    "#これで入れ替え可能\n",
    "a,b = b,a \n",
    "print(a,b)"
   ]
  },
  {
   "cell_type": "code",
   "execution_count": null,
   "metadata": {},
   "outputs": [],
   "source": []
  }
 ]
}