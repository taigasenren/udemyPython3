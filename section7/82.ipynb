{
 "metadata": {
  "language_info": {
   "codemirror_mode": {
    "name": "ipython",
    "version": 3
   },
   "file_extension": ".py",
   "mimetype": "text/x-python",
   "name": "python",
   "nbconvert_exporter": "python",
   "pygments_lexer": "ipython3",
   "version": "3.8.5-final"
  },
  "orig_nbformat": 2,
  "kernelspec": {
   "name": "python3",
   "display_name": "Python 3"
  }
 },
 "nbformat": 4,
 "nbformat_minor": 2,
 "cells": [
  {
   "cell_type": "code",
   "execution_count": 5,
   "metadata": {},
   "outputs": [
    {
     "output_type": "stream",
     "name": "stdout",
     "text": [
      "run\n#####\nmodel s\nsuper fast\nauto run\n"
     ]
    }
   ],
   "source": [
    "#メソッドのオーバーライド\n",
    "class Car(object):\n",
    "    def __init__(self,model = None):\n",
    "        self.model = model\n",
    "    def run(self):\n",
    "        print(\"run\")\n",
    "\n",
    "#引数にクラスを入れている\n",
    "#パスで前のを継承できる\n",
    "class ToyotaCar(Car):\n",
    "    #メソッドの上書きが可能\n",
    "    def run(self):\n",
    "        print(\"fast\")\n",
    "\n",
    "\n",
    "class TeslaCar(Car):\n",
    "    def __init__(self,model = \"model s\" , enable_auto_run = False):\n",
    "        super().__init__(model)\n",
    "        self.enable_auto_run = enable_auto_run\n",
    "        \n",
    "    def run(self):\n",
    "        print(\"super fast\")\n",
    "    def auto_run(self):\n",
    "        print(\"auto run\")\n",
    "\n",
    "car = Car()\n",
    "car.run()\n",
    "\n",
    "print(\"#####\")\n",
    "tesla_car = TeslaCar(\"model s\")\n",
    "print(tesla_car.model)\n",
    "tesla_car.run()\n",
    "tesla_car.auto_run()"
   ]
  },
  {
   "cell_type": "code",
   "execution_count": null,
   "metadata": {},
   "outputs": [],
   "source": []
  }
 ]
}