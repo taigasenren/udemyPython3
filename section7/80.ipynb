{
 "metadata": {
  "language_info": {
   "codemirror_mode": {
    "name": "ipython",
    "version": 3
   },
   "file_extension": ".py",
   "mimetype": "text/x-python",
   "name": "python",
   "nbconvert_exporter": "python",
   "pygments_lexer": "ipython3",
   "version": "3.9.0-final"
  },
  "orig_nbformat": 2,
  "kernelspec": {
   "name": "python3",
   "display_name": "Python 3"
  }
 },
 "nbformat": 4,
 "nbformat_minor": 2,
 "cells": [
  {
   "cell_type": "code",
   "execution_count": 1,
   "metadata": {},
   "outputs": [
    {
     "output_type": "stream",
     "name": "stdout",
     "text": [
      "mike\ni am mike hello\nrun\ngood bye\n"
     ]
    }
   ],
   "source": [
    "#コンストラクタとデストラクタ\n",
    "class Person:\n",
    "    #はじめがコンストラクタ(init)\n",
    "    def __init__(self,name):\n",
    "        self.name = name\n",
    "        print(self.name)\n",
    "    \n",
    "    #selfを用いて、自分自身でセットした値にアクセスする\n",
    "    def say_something(self):\n",
    "        print(\"i am {} hello\".format(self.name))\n",
    "        self.run()\n",
    "\n",
    "    def run(self):\n",
    "        print(\"run\")\n",
    "    \n",
    "    #終わりがデストラクタ(del)\n",
    "    def __del__(self):\n",
    "        print(\"good bye\")\n",
    "\n",
    "person = Person(\"mike\")\n",
    "person.say_something()\n",
    "\n",
    "#デストラクタ\n",
    "del person"
   ]
  },
  {
   "cell_type": "code",
   "execution_count": null,
   "metadata": {},
   "outputs": [],
   "source": []
  }
 ]
}