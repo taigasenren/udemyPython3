{
 "metadata": {
  "language_info": {
   "codemirror_mode": {
    "name": "ipython",
    "version": 3
   },
   "file_extension": ".py",
   "mimetype": "text/x-python",
   "name": "python",
   "nbconvert_exporter": "python",
   "pygments_lexer": "ipython3",
   "version": "3.9.0-final"
  },
  "orig_nbformat": 2,
  "kernelspec": {
   "name": "python3",
   "display_name": "Python 3"
  }
 },
 "nbformat": 4,
 "nbformat_minor": 2,
 "cells": [
  {
   "cell_type": "code",
   "execution_count": 4,
   "metadata": {},
   "outputs": [
    {
     "output_type": "stream",
     "name": "stdout",
     "text": [
      "run\n#####\nrun\nauto run\n"
     ]
    }
   ],
   "source": [
    "#クラスの継承\n",
    "class Car(object):\n",
    "    def run(self):\n",
    "        print(\"run\")\n",
    "\n",
    "#引数にクラスを入れている\n",
    "#パスで前のを継承できる\n",
    "class ToyotaCar(Car):\n",
    "    pass\n",
    "\n",
    "\n",
    "class TeslaCar(Car):\n",
    "    def auto_run(self):\n",
    "        print(\"auto run\")\n",
    "\n",
    "car = Car()\n",
    "car.run()\n",
    "\n",
    "print(\"#####\")\n",
    "tesla_car = TeslaCar()\n",
    "tesla_car.run()\n",
    "tesla_car.auto_run()"
   ]
  },
  {
   "cell_type": "code",
   "execution_count": null,
   "metadata": {},
   "outputs": [],
   "source": []
  }
 ]
}